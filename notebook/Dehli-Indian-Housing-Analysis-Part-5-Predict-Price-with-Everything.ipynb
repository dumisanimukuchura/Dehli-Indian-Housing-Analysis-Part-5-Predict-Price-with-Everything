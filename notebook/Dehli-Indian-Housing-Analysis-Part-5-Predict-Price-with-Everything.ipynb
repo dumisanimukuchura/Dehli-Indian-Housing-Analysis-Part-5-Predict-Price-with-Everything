{
 "cells": [
  {
   "cell_type": "markdown",
   "id": "5e0da07f-038e-4ab7-9fd1-92ca112980b6",
   "metadata": {},
   "source": [
    "# Dehli-Indian-Housing-Analysis-Part-5-Predict-Rental-Price-with-Everything-Size-numBedroom-numBathroom-Location-Name-and-House-Type by Dumisani Maxwell Mukuchura\n",
    "\n",
    "## Dataset Source: https://www.kaggle.com/datasets/bhavyadhingra00020/india-rental-house-price\n",
    "\n",
    "### Contact: dumisanimukuchura@gmail.com | LinkedIn: https://www.linkedin.com/in/dumisani-maxwell-mukuchura-4859b7170/\n",
    "\n",
    "#### This Project will explore the Dehli Indian Housing and build a model predicting the Rental Price from Everything i.e the following features: House Size, Number of Bedrooms, Number of Bathrooms, Location Name and House Type. A total of 5 features."
   ]
  },
  {
   "cell_type": "code",
   "execution_count": null,
   "id": "e66fe8c0-fefc-4902-825c-c95b1f25ad01",
   "metadata": {},
   "outputs": [],
   "source": []
  }
 ],
 "metadata": {
  "kernelspec": {
   "display_name": "Python 3 (ipykernel)",
   "language": "python",
   "name": "python3"
  },
  "language_info": {
   "codemirror_mode": {
    "name": "ipython",
    "version": 3
   },
   "file_extension": ".py",
   "mimetype": "text/x-python",
   "name": "python",
   "nbconvert_exporter": "python",
   "pygments_lexer": "ipython3",
   "version": "3.12.4"
  }
 },
 "nbformat": 4,
 "nbformat_minor": 5
}
